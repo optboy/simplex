{
 "cells": [
  {
   "cell_type": "code",
   "execution_count": 13,
   "metadata": {},
   "outputs": [],
   "source": [
    "import copy\n",
    "import numpy as np"
   ]
  },
  {
   "cell_type": "code",
   "execution_count": 14,
   "metadata": {},
   "outputs": [],
   "source": [
    "def optimality_check(c):\n",
    "    if [rdcd_cost for rdcd_cost in c if rdcd_cost > 1e-8]:\n",
    "        return True\n",
    "    else:\n",
    "        return False"
   ]
  },
  {
   "cell_type": "code",
   "execution_count": 20,
   "metadata": {},
   "outputs": [],
   "source": [
    "def pivoting(c,A,b,z):\n",
    "    entering = (np.where(c == max(c)))[0][0]\n",
    "\n",
    "    ratio = {row_idx:rhs/lhs[entering] for row_idx,(lhs,rhs) in enumerate(zip(A,b)) if lhs[entering] >= 0}\n",
    "\n",
    "    min_ratio_idx = min(ratio, key=ratio.get)\n",
    "    mul_val = float(1/A[min_ratio_idx][entering])\n",
    "\n",
    "    criteria_lhs = copy.copy(A[min_ratio_idx]*mul_val)\n",
    "    criteria_rhs = copy.copy(b[min_ratio_idx]*mul_val)\n",
    "    \n",
    "    for row_idx,(lhs,rhs) in enumerate(zip(A,b)):\n",
    "        pivot_val = float(lhs[entering])\n",
    "        if row_idx != min_ratio_idx:\n",
    "#             if lhs[entering] > 0:\n",
    "            A[row_idx] = lhs - (criteria_lhs*pivot_val)\n",
    "            b[row_idx] = rhs - (criteria_rhs*pivot_val)\n",
    "#             else:\n",
    "#                 A[row_idx] = lhs + (criteria_lhs*pivot_val)\n",
    "#                 b[row_idx] = rhs + (criteria_rhs*pivot_val)\n",
    "        else:\n",
    "            A[row_idx] = criteria_lhs\n",
    "            b[row_idx] = criteria_rhs\n",
    "    \n",
    "    odj_pivot_val = c[entering]\n",
    "#     if odj_pivot_val > 0:\n",
    "    c -= criteria_lhs*odj_pivot_val\n",
    "    z -= criteria_rhs*odj_pivot_val\n",
    "#     else:\n",
    "#         c += criteria_lhs*odj_pivot_val\n",
    "#         z += criteria_rhs*odj_pivot_val\n",
    "        \n",
    "    return c,A,b,z"
   ]
  },
  {
   "cell_type": "code",
   "execution_count": 21,
   "metadata": {},
   "outputs": [],
   "source": [
    "def unbounded_check(col):\n",
    "    if [num for num in col if num < 0]:\n",
    "        return True\n",
    "    else:\n",
    "        return False"
   ]
  },
  {
   "cell_type": "code",
   "execution_count": 17,
   "metadata": {},
   "outputs": [],
   "source": [
    "def print_tableau(step, c,A,b,z):\n",
    "    print(f'===== step {step} =====')\n",
    "    print(c, z)\n",
    "    for lhs,rhs in zip(A,b):\n",
    "        print(lhs, rhs)\n",
    "    print()"
   ]
  },
  {
   "cell_type": "code",
   "execution_count": 18,
   "metadata": {},
   "outputs": [],
   "source": [
    "c = np.array([2,1,1,0,0,0], dtype=np.float)\n",
    "A = np.array([\n",
    "    [3,1,1,1,0,0],\n",
    "    [1,-1,2,0,1,0],\n",
    "    [1,1,-1,0,0,1]\n",
    "], dtype=np.float)\n",
    "b = np.array([60,10,20], dtype=np.float)\n",
    "z = 0"
   ]
  },
  {
   "cell_type": "code",
   "execution_count": 18,
   "metadata": {},
   "outputs": [
    {
     "name": "stdout",
     "output_type": "stream",
     "text": [
      "===== step 1 =====\n",
      "[ 0.  3. -3.  0. -2.  0.] -20.0\n",
      "[ 0.  4. -5.  1. -3.  0.] 30.0\n",
      "[ 1. -1.  2.  0.  1.  0.] 10.0\n",
      "[ 0.  2. -3.  0. -1.  1.] 10.0\n",
      "\n",
      "===== step 2 =====\n",
      "[ 0.   0.   1.5  0.  -0.5 -1.5] -35.0\n",
      "[ 0.  0.  1.  1. -1. -2.] 10.0\n",
      "[1.  0.  0.5 0.  0.5 0.5] 15.0\n",
      "[ 0.   1.  -1.5  0.  -0.5  0.5] 5.0\n",
      "\n",
      "===== step 3 =====\n",
      "[ 0.   0.   0.  -1.5  1.   1.5] -50.0\n",
      "[ 0.  0.  1.  1. -1. -2.] 10.0\n",
      "[ 1.   0.   0.  -0.5  1.   1.5] 10.0\n",
      "[ 0.   1.   0.   1.5 -2.  -2.5] 20.0\n",
      "\n",
      "===== step 4 =====\n",
      "[-1.  0.  0. -1.  0.  0.] -60.0\n",
      "[1.33333333 0.         1.         0.33333333 0.33333333 0.        ] 23.333333333333332\n",
      "[ 0.66666667  0.          0.         -0.33333333  0.66666667  1.        ] 6.666666666666666\n",
      "[ 1.66666667  1.          0.          0.66666667 -0.33333333  0.        ] 36.666666666666664\n",
      "\n"
     ]
    }
   ],
   "source": [
    "step = 1\n",
    "while optimality_check(c):\n",
    "    c,A,b,z = pivoting(c,A,b,z)\n",
    "    \n",
    "    if unbounded_check(row[2] for row in A):\n",
    "        print('unbounded!')\n",
    "        break\n",
    "    \n",
    "    print_tableau(step, c,A,b,z)\n",
    "    \n",
    "    step += 1"
   ]
  },
  {
   "cell_type": "markdown",
   "metadata": {},
   "source": [
    "# Make Problem & Standard Form"
   ]
  },
  {
   "cell_type": "code",
   "execution_count": 129,
   "metadata": {},
   "outputs": [],
   "source": [
    "class Problem:\n",
    "    def __init__(self, prob_type=None):\n",
    "        self.variables = []\n",
    "        self.constraints = []\n",
    "        self.prob_type = prob_type\n",
    "        \n",
    "    def add_variable(self, name=None, obj_coef=None, lb=0, ub=float('inf')):\n",
    "        variable = Variable(name, obj_coef, lb, ub)\n",
    "        self.variables.append(variable)\n",
    "        \n",
    "    def add_constraint(self, name=None, lhs=None, rhs=None, ineq_type=None):\n",
    "        constraint = Constraint(name, lhs, rhs, ineq_type)\n",
    "        self.constraints.append(constraint)\n",
    "\n",
    "    def set_prob_type(self, prob_type):\n",
    "        self.prob_type = prob_type\n",
    "        \n",
    "        \n",
    "class Variable:\n",
    "    def __init__(self, name=None, obj_coef=None, lb=0, ub=float('inf')):\n",
    "        self.name = name\n",
    "        self.obj_coef = obj_coef\n",
    "        self.lb = lb\n",
    "        self.ub = ub\n",
    "        \n",
    "    def set_name(self,name):\n",
    "        self.name = name\n",
    "        \n",
    "    def set_obj_coef(self,obj_coef):\n",
    "        self.obj_coef = obj_coef\n",
    "        \n",
    "    def set_lb(self, lb):\n",
    "        self.lb = lb\n",
    "        \n",
    "    def set_ub(self, ub):\n",
    "        self.lb = lb\n",
    "        \n",
    "        \n",
    "class Constraint:\n",
    "    def __init__(self, name=None, lhs=None, rhs=None, ineq_type=None):\n",
    "        self.name = name\n",
    "        self.lhs = lhs\n",
    "        self.rhs = rhs\n",
    "        self.ineq_type = ineq_type\n",
    "        \n",
    "    def set_lhs_coef(self, lhs):\n",
    "        self.lhs = lhs\n",
    "        \n",
    "    def set_rhs(self, rhs):\n",
    "        self.rhs = rhs\n",
    "        \n",
    "    def set_ineq_type(self, ineq_type):\n",
    "        self.ineq_type = ineq_type\n",
    "        \n",
    "        "
   ]
  },
  {
   "cell_type": "markdown",
   "metadata": {},
   "source": [
    "# Example\n",
    "\n",
    "Max 2x1 + x2 + x3  \n",
    "\n",
    "s.t 3x1 + x2 + x3 <= 60  \n",
    "&nbsp;&nbsp;&nbsp;&nbsp; x1 - x2 + 2x3 <= 10  \n",
    "&nbsp;&nbsp;&nbsp;&nbsp; x1 + x2 - x3 <= 20  \n",
    "&nbsp;&nbsp;&nbsp;&nbsp; x1,x2,x3 >= 0  "
   ]
  },
  {
   "cell_type": "code",
   "execution_count": 135,
   "metadata": {},
   "outputs": [],
   "source": [
    "c = np.array([2,1,1])\n",
    "A = np.array([\n",
    "    [3,1,1],\n",
    "    [1,-1,2],\n",
    "    [1,1,-1]\n",
    "    ])\n",
    "b = np.array([60,-10,20])\n",
    "\n",
    "types = np.array(['L','L','L'])\n",
    "\n",
    "num_var = len(c)\n",
    "num_const = len(A)\n",
    "\n",
    "problem = Problem()\n",
    "\n",
    "for i in range(num_var):\n",
    "    problem.add_variable(name = f'x{i}', obj_coef = c[i])\n",
    "\n",
    "for i in range(num_const):\n",
    "    problem.add_constraint(name = f'c{i}', lhs = A[i], rhs = b[i], ineq_type=types[i])\n"
   ]
  },
  {
   "cell_type": "code",
   "execution_count": 136,
   "metadata": {},
   "outputs": [
    {
     "name": "stdout",
     "output_type": "stream",
     "text": [
      "2 x0\n",
      "1 x1\n",
      "1 x2\n"
     ]
    }
   ],
   "source": [
    "for i in problem.variables:\n",
    "    print(i.obj_coef, i.name)\n",
    "    \n"
   ]
  },
  {
   "cell_type": "code",
   "execution_count": 137,
   "metadata": {},
   "outputs": [
    {
     "name": "stdout",
     "output_type": "stream",
     "text": [
      "[3 1 1] L 60\n",
      "[ 1 -1  2] L -10\n",
      "[ 1  1 -1] L 20\n"
     ]
    }
   ],
   "source": [
    "for i in problem.constraints:\n",
    "    print(i.lhs, i.ineq_type, i.rhs)\n",
    "    \n",
    "    "
   ]
  },
  {
   "cell_type": "code",
   "execution_count": 146,
   "metadata": {},
   "outputs": [],
   "source": [
    "# def make_standard_form(problem):\n",
    "    # rhs 양수\n",
    "    # variable 0보다 크거나 같다.\n",
    "    # 모든 제약식의 부호가 =\n",
    "    \n",
    "    # 일단 변수들 조정시켜주자. x <= 0 -> -x역할을 하는 y생성, x is free -> s2 - s1으로\n",
    "    \n",
    "std_variables = []\n",
    "std_constraints = []\n",
    "std_ineq_types = []\n",
    "\n",
    "for v in problem.variables:\n",
    "    if v.lb == -float('inf') and v.ub == 0:\n",
    "        alt_variable = Variable(name=f'{v.name}_y', obj_coef=-v.obj_coef, lb=0, ub=float('inf'))\n",
    "        std_variables.append(alt_variable)\n",
    "\n",
    "    elif v.lb == -float('inf') and v.ub == float('inf'):\n",
    "        plus_variable = Variable(name=f'{v.name}_plus', obj_coef=v.obj_coef, lb=0, ub=float('inf'))\n",
    "        minus_variable = Variable(name=f'{v.name}_minus', obj_coef=-v.obj_coef, lb=0, ub=float('inf'))\n",
    "        std_variables.append(plus_variable)\n",
    "        std_variables.append(minus_variable)\n",
    "\n",
    "    else:\n",
    "        variable = Variable(name=f'{v.name}', obj_coef=v.obj_coef, lb=v.lb, ub=v.ub)\n",
    "        std_variables.append(variable)\n",
    "\n",
    "# 제약에서 rhs 음수이면 부호바꿔준다.\n",
    "\n",
    "for c in problem.constraints:\n",
    "    if c.rhs < 0:\n",
    "        alt_c = Constraint(name = f'c{i}', lhs = -c.lhs, rhs = -c.rhs, ineq_type='R' if t == 'L' else 'L')\n",
    "        std_constraints.append(alt_c)\n",
    "    else:\n",
    "        original_c = Constraint(name = f'c{i}', lhs = c.lhs, rhs = c.rhs, ineq_type=c.ineq_type)\n",
    "        std_constraints.append(original_c)\n",
    "        \n",
    "# 제약에서 부호 L이면 슬랙, R이면 surplus, artificial 추가, E면 artificial추가\n",
    "\n",
    "\n",
    "\n",
    "            "
   ]
  },
  {
   "cell_type": "code",
   "execution_count": 150,
   "metadata": {},
   "outputs": [
    {
     "name": "stdout",
     "output_type": "stream",
     "text": [
      "[3 1 1] L 60\n",
      "[-1  1 -2] R 10\n",
      "[ 1  1 -1] L 20\n"
     ]
    }
   ],
   "source": [
    "for c in std_constraints:\n",
    "    print(c.lhs, c.ineq_type ,c.rhs)"
   ]
  },
  {
   "cell_type": "code",
   "execution_count": 145,
   "metadata": {},
   "outputs": [
    {
     "data": {
      "text/plain": [
       "'R'"
      ]
     },
     "execution_count": 145,
     "metadata": {},
     "output_type": "execute_result"
    }
   ],
   "source": [
    "t = 'L'\n",
    "'R' if t == 'L' else 'L' "
   ]
  },
  {
   "cell_type": "code",
   "execution_count": 134,
   "metadata": {
    "scrolled": true
   },
   "outputs": [
    {
     "name": "stdout",
     "output_type": "stream",
     "text": [
      "x0\n",
      "x1\n",
      "x2\n"
     ]
    }
   ],
   "source": [
    "for i in std_variables:\n",
    "    print(i.name)\n",
    "    \n",
    "    \n",
    "    "
   ]
  },
  {
   "cell_type": "code",
   "execution_count": 127,
   "metadata": {},
   "outputs": [],
   "source": [
    "a = np.array([[1,2,3],[4,5,6]])\n",
    "\n",
    "b = np.array([[7,8,9]])\n"
   ]
  },
  {
   "cell_type": "code",
   "execution_count": 128,
   "metadata": {
    "scrolled": true
   },
   "outputs": [
    {
     "data": {
      "text/plain": [
       "array([[1, 2, 3],\n",
       "       [4, 5, 6],\n",
       "       [7, 8, 9]])"
      ]
     },
     "execution_count": 128,
     "metadata": {},
     "output_type": "execute_result"
    }
   ],
   "source": [
    "np.concatenate((a,b))"
   ]
  },
  {
   "cell_type": "code",
   "execution_count": 119,
   "metadata": {},
   "outputs": [
    {
     "data": {
      "text/plain": [
       "array([1, 2, 3, 4, 5, 6])"
      ]
     },
     "execution_count": 119,
     "metadata": {},
     "output_type": "execute_result"
    }
   ],
   "source": [
    "b"
   ]
  },
  {
   "cell_type": "code",
   "execution_count": 139,
   "metadata": {},
   "outputs": [
    {
     "data": {
      "text/plain": [
       "array([[1, 2, 3],\n",
       "       [4, 5, 6]])"
      ]
     },
     "execution_count": 139,
     "metadata": {},
     "output_type": "execute_result"
    }
   ],
   "source": [
    "a"
   ]
  },
  {
   "cell_type": "code",
   "execution_count": 140,
   "metadata": {},
   "outputs": [
    {
     "data": {
      "text/plain": [
       "array([[-1, -2, -3],\n",
       "       [-4, -5, -6]])"
      ]
     },
     "execution_count": 140,
     "metadata": {},
     "output_type": "execute_result"
    }
   ],
   "source": [
    "-a"
   ]
  },
  {
   "cell_type": "code",
   "execution_count": 141,
   "metadata": {},
   "outputs": [
    {
     "data": {
      "text/plain": [
       "<__main__.Constraint at 0x10d0ca890>"
      ]
     },
     "execution_count": 141,
     "metadata": {},
     "output_type": "execute_result"
    }
   ],
   "source": [
    "c"
   ]
  },
  {
   "cell_type": "code",
   "execution_count": 142,
   "metadata": {},
   "outputs": [
    {
     "data": {
      "text/plain": [
       "20"
      ]
     },
     "execution_count": 142,
     "metadata": {},
     "output_type": "execute_result"
    }
   ],
   "source": [
    "c.rhs"
   ]
  },
  {
   "cell_type": "code",
   "execution_count": null,
   "metadata": {},
   "outputs": [],
   "source": []
  }
 ],
 "metadata": {
  "kernelspec": {
   "display_name": "Python 3",
   "language": "python",
   "name": "python3"
  },
  "language_info": {
   "codemirror_mode": {
    "name": "ipython",
    "version": 3
   },
   "file_extension": ".py",
   "mimetype": "text/x-python",
   "name": "python",
   "nbconvert_exporter": "python",
   "pygments_lexer": "ipython3",
   "version": "3.7.5"
  }
 },
 "nbformat": 4,
 "nbformat_minor": 4
}
