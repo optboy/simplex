{
 "cells": [
  {
   "cell_type": "code",
   "execution_count": 7,
   "metadata": {},
   "outputs": [],
   "source": [
    "import copy\n",
    "import numpy as np"
   ]
  },
  {
   "cell_type": "code",
   "execution_count": 8,
   "metadata": {},
   "outputs": [],
   "source": [
    "def optimality_check(c):\n",
    "    if [rdcd_cost for rdcd_cost in c if rdcd_cost > 1e-8]:\n",
    "        return True\n",
    "    else:\n",
    "        return False"
   ]
  },
  {
   "cell_type": "code",
   "execution_count": 15,
   "metadata": {},
   "outputs": [],
   "source": [
    "def pivoting(c,A,b,z):\n",
    "    entering = (np.where(c == max(c)))[0][0]\n",
    "\n",
    "    ratio = {row_idx:rhs/lhs[entering] for row_idx,(lhs,rhs) in enumerate(zip(A,b)) if lhs[entering] >= 0}\n",
    "\n",
    "    min_ratio_idx = min(ratio, key=ratio.get)\n",
    "    mul_val = float(1/A[min_ratio_idx][entering])\n",
    "\n",
    "    criteria_lhs = copy.copy(A[min_ratio_idx]*mul_val)\n",
    "    criteria_rhs = copy.copy(b[min_ratio_idx]*mul_val)\n",
    "    \n",
    "    for row_idx,(lhs,rhs) in enumerate(zip(A,b)):\n",
    "        pivot_val = float(lhs[entering])\n",
    "        if row_idx != min_ratio_idx:\n",
    "#             if lhs[entering] > 0:\n",
    "            A[row_idx] = lhs - (criteria_lhs*pivot_val)\n",
    "            b[row_idx] = rhs - (criteria_rhs*pivot_val)\n",
    "#             else:\n",
    "#                 A[row_idx] = lhs + (criteria_lhs*pivot_val)\n",
    "#                 b[row_idx] = rhs + (criteria_rhs*pivot_val)\n",
    "        else:\n",
    "            A[row_idx] = criteria_lhs\n",
    "            b[row_idx] = criteria_rhs\n",
    "    \n",
    "    odj_pivot_val = c[entering]\n",
    "#     if odj_pivot_val > 0:\n",
    "    c -= criteria_lhs*odj_pivot_val\n",
    "    z -= criteria_rhs*odj_pivot_val\n",
    "#     else:\n",
    "#         c += criteria_lhs*odj_pivot_val\n",
    "#         z += criteria_rhs*odj_pivot_val\n",
    "        \n",
    "    return c,A,b,z"
   ]
  },
  {
   "cell_type": "code",
   "execution_count": 16,
   "metadata": {},
   "outputs": [],
   "source": [
    "def print_tableau(step, c,A,b,z):\n",
    "    print(f'===== step {step} =====')\n",
    "    print(c, z)\n",
    "    for lhs,rhs in zip(A,b):\n",
    "        print(lhs, rhs)\n",
    "    print()"
   ]
  },
  {
   "cell_type": "code",
   "execution_count": 17,
   "metadata": {},
   "outputs": [],
   "source": [
    "c = np.array([2,1,1,0,0,0], dtype=np.float)\n",
    "A = np.array([\n",
    "    [3,1,1,1,0,0],\n",
    "    [1,-1,2,0,1,0],\n",
    "    [1,1,-1,0,0,1]\n",
    "], dtype=np.float)\n",
    "b = np.array([60,10,20], dtype=np.float)\n",
    "z = 0"
   ]
  },
  {
   "cell_type": "code",
   "execution_count": 18,
   "metadata": {},
   "outputs": [
    {
     "name": "stdout",
     "output_type": "stream",
     "text": [
      "===== step 1 =====\n",
      "[ 0.  3. -3.  0. -2.  0.] -20.0\n",
      "[ 0.  4. -5.  1. -3.  0.] 30.0\n",
      "[ 1. -1.  2.  0.  1.  0.] 10.0\n",
      "[ 0.  2. -3.  0. -1.  1.] 10.0\n",
      "\n",
      "===== step 2 =====\n",
      "[ 0.   0.   1.5  0.  -0.5 -1.5] -35.0\n",
      "[ 0.  0.  1.  1. -1. -2.] 10.0\n",
      "[1.  0.  0.5 0.  0.5 0.5] 15.0\n",
      "[ 0.   1.  -1.5  0.  -0.5  0.5] 5.0\n",
      "\n",
      "===== step 3 =====\n",
      "[ 0.   0.   0.  -1.5  1.   1.5] -50.0\n",
      "[ 0.  0.  1.  1. -1. -2.] 10.0\n",
      "[ 1.   0.   0.  -0.5  1.   1.5] 10.0\n",
      "[ 0.   1.   0.   1.5 -2.  -2.5] 20.0\n",
      "\n",
      "===== step 4 =====\n",
      "[-1.  0.  0. -1.  0.  0.] -60.0\n",
      "[1.33333333 0.         1.         0.33333333 0.33333333 0.        ] 23.333333333333332\n",
      "[ 0.66666667  0.          0.         -0.33333333  0.66666667  1.        ] 6.666666666666666\n",
      "[ 1.66666667  1.          0.          0.66666667 -0.33333333  0.        ] 36.666666666666664\n",
      "\n"
     ]
    }
   ],
   "source": [
    "step = 1\n",
    "while optimality_check(c):\n",
    "    c,A,b,z = pivoting(c,A,b,z)\n",
    "    \n",
    "    print_tableau(step, c,A,b,z)\n",
    "    \n",
    "    step += 1"
   ]
  },
  {
   "cell_type": "code",
   "execution_count": null,
   "metadata": {},
   "outputs": [],
   "source": []
  }
 ],
 "metadata": {
  "kernelspec": {
   "display_name": "Python 3",
   "language": "python",
   "name": "python3"
  },
  "language_info": {
   "codemirror_mode": {
    "name": "ipython",
    "version": 3
   },
   "file_extension": ".py",
   "mimetype": "text/x-python",
   "name": "python",
   "nbconvert_exporter": "python",
   "pygments_lexer": "ipython3",
   "version": "3.7.6"
  }
 },
 "nbformat": 4,
 "nbformat_minor": 4
}
